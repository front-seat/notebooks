{
 "cells": [
  {
   "cell_type": "code",
   "execution_count": 1,
   "metadata": {},
   "outputs": [
    {
     "name": "stdout",
     "output_type": "stream",
     "text": [
      "  Service Request Number        Created Date         Method Received  Status                                  Location       X_Value        Y_Value   Latitude   Longitude                 Latitude/Longitude  ZIP Code  Council District Police Precinct         Neighborhood Are there people present? Are there tents, structures, or tarps? Are there RVs/cars/misc. vehicles?         Is the encampment blocking access?                          Is there trash or debris?\n",
      "0            22-00156375 2022-06-28 08:54:24     Find It Fix It Apps  Closed       5657 26TH AVE SW, SEATTLE, WA 98106  1.261980e+06  204495.480701  47.550284 -122.365869  POINT (-122.36586867 47.55028426)     98106                 1       SOUTHWEST           HIGH POINT                       Yes                                    Yes                                Yes   Recreation amenity,Entrance to residence  Garbage/Loose litter,Needles/Sharps,Hazardous ...\n",
      "1            22-00156446 2022-06-28 09:32:47  Citizen Web Intake App  Closed  2454 OCCIDENTAL AVE S, SEATTLE, WA 98134  1.270435e+06  215423.594735  47.580694 -122.332499  POINT (-122.33249871 47.58069433)     98134                 2           SOUTH  INDUSTRIAL DISTRICT                       Yes                                    Yes                                Yes                                   Sidewalk                   Garbage/Loose litter,Bulky items\n",
      "2            22-00156506 2022-06-28 10:03:18     Find It Fix It Apps  Closed        5829 37TH PL NW, SEATTLE, WA 98107  1.253306e+06  248764.525519  47.671143 -122.404645  POINT (-122.40464543 47.67114318)     98107                 6           NORTH          SUNSET HILL                       Yes                                Unknown                            Unknown                                No blockage                               Garbage/Loose litter\n",
      "3            22-00156516 2022-06-28 10:07:29     Find It Fix It Apps  Closed        4015 5TH AVE NE, SEATTLE, WA 98105  1.273106e+06  242849.118152  47.656009 -122.323832  POINT (-122.32383169 47.65600913)     98105                 4           NORTH          WALLINGFORD                      None                                    Yes                               None                                       None                                               None\n",
      "4            22-00156533 2022-06-28 10:15:41     Find It Fix It Apps  Closed    3100 EASTLAKE AVE E, SEATTLE, WA 98102  1.273225e+06  240231.722734  47.648841 -122.323145  POINT (-122.32314469 47.64884122)     98102                 4            WEST             EASTLAKE                       Yes                                    Yes                                 No                                No blockage                               Garbage/Loose litter\n",
      "5            22-00156594 2022-06-28 10:55:14     Find It Fix It Apps  Closed     3027 HARBOR AVE SW, SEATTLE, WA 98126  1.260718e+06  214157.337966  47.576698 -122.371760  POINT (-122.37175963 47.57669786)     98126                 1       SOUTHWEST        NORTH ADMIRAL                   Unknown                                     No                                Yes  Other (please explain in the Description)  Garbage/Loose litter,Hazardous materials (e.g....\n",
      "6            22-00156601 2022-06-28 10:59:15     Find It Fix It Apps  Closed    3611 MARGINAL PL SW, SEATTLE, WA 98106  1.264296e+06  211852.125483  47.570575 -122.357084  POINT (-122.35708353 47.57057451)     98106                 1       SOUTHWEST       NORTH DELRIDGE                       Yes                                    Yes                                Yes                         Sidewalk,Bike lane  Garbage/Loose litter,Needles/Sharps,Hazardous ...\n",
      "7            22-00156621 2022-06-28 11:09:20     Find It Fix It Apps  Closed       6307 16TH AVE SW, SEATTLE, WA 98106  1.264583e+06  202992.580549  47.546307 -122.355208  POINT (-122.35520817 47.54630651)     98106                 1       SOUTHWEST            RIVERVIEW                       Yes                                     No                                Yes                                   Sidewalk  Garbage/Loose litter,Needles/Sharps,Hazardous ...\n",
      "8            22-00156639 2022-06-28 11:21:25     Find It Fix It Apps  Closed        4993 7TH AVE NE, SEATTLE, WA 98105  1.273878e+06  246037.696420  47.664790 -122.320951   POINT (-122.3209509 47.66478987)     98105                 4           NORTH  UNIVERSITY DISTRICT                       Yes                                    Yes                            Unknown  Other (please explain in the Description)  Garbage/Loose litter,Needles/Sharps,Hazardous ...\n",
      "9            22-00156081 2022-06-27 20:02:24     Find It Fix It Apps  Closed    9524 ASHWORTH AVE N, SEATTLE, WA 98103  1.269633e+06  258520.433079  47.698778 -122.339164  POINT (-122.33916426 47.69877831)     98103                 5           NORTH   NORTH COLLEGE PARK                       Yes                                    Yes                                 No                         Recreation amenity                               Garbage/Loose litter\n"
     ]
    }
   ],
   "source": [
    "import duckdb\n",
    "import pandas as pd\n",
    "\n",
    "file_path = 'data/encampments.csv'\n",
    "conn = duckdb.connect()\n",
    "\n",
    "# Get the first 10 rows of the CSV file\n",
    "result = conn.execute(f\"SELECT * FROM read_csv('{file_path}') LIMIT 10\")\n",
    "\n",
    "# Print the result -- do not wrap columns\n",
    "pd.set_option('display.expand_frame_repr', False)\n",
    "print(result.fetchdf())"
   ]
  },
  {
   "cell_type": "code",
   "execution_count": 2,
   "metadata": {},
   "outputs": [
    {
     "name": "stdout",
     "output_type": "stream",
     "text": [
      "  min(\"Created Date\") max(\"Created Date\")\n",
      "0 2022-06-27 17:23:12 2024-12-16 23:55:16\n"
     ]
    }
   ],
   "source": [
    "# Run a query to return the oldest and most recent \"Created Date\"\n",
    "result = conn.execute(f\"SELECT MIN(\\\"Created Date\\\"), MAX(\\\"Created Date\\\") FROM read_csv('{file_path}')\")\n",
    "print(result.fetchdf())"
   ]
  },
  {
   "cell_type": "code",
   "execution_count": 3,
   "metadata": {},
   "outputs": [
    {
     "name": "stdout",
     "output_type": "stream",
     "text": [
      "                                     Location   Latitude   Longitude  TheCount\n",
      "0            105 N 87TH ST, SEATTLE, WA 98103  47.692265 -122.357696       715\n",
      "1   12363 LAKE CITY WAY NE, SEATTLE, WA 98125  47.719107 -122.295884       696\n",
      "2       515 BOYLSTON AVE E, SEATTLE, WA 98102  47.623889 -122.323335       572\n",
      "3       1201 UNIVERSITY ST, SEATTLE, WA 98101  47.611950 -122.325495       541\n",
      "4               400 ROY ST, SEATTLE, WA 98109  47.625602 -122.348652       359\n",
      "5        500 FEDERAL AVE E, SEATTLE, WA 98102  47.623288 -122.318614       357\n",
      "6          8501 1ST AVE NW, SEATTLE, WA 98117  47.690845 -122.358324       312\n",
      "7        6800 WEEDIN PL NE, SEATTLE, WA 98115  47.678569 -122.321618       296\n",
      "8     509 QUEEN ANNE AVE N, SEATTLE, WA 98109  47.623532 -122.357098       294\n",
      "9          700 NW 100TH PL, SEATTLE, WA 98177  47.701711 -122.365042       281\n",
      "10               27 ROY ST, SEATTLE, WA 98109  47.625284 -122.355662       275\n",
      "11     1500 FAIRVIEW AVE E, SEATTLE, WA 98102  47.632458 -122.326578       267\n",
      "12       8848 NESBIT AVE N, SEATTLE, WA 98103  47.693863 -122.343238       259\n",
      "13        5315 15TH AVE NW, SEATTLE, WA 98107  47.667751 -122.376824       256\n",
      "14       11728 35TH AVE NE, SEATTLE, WA 98125  47.714593 -122.291299       231\n"
     ]
    }
   ],
   "source": [
    "# Return the top 10 most common \"Location\" values. Grab the Location and the \"Latitude/Longitude\" columns\n",
    "result = conn.execute(f\"SELECT Location, Latitude, Longitude, COUNT(*) as TheCount FROM read_csv('{file_path}') GROUP BY Location, Latitude, Longitude ORDER BY COUNT(*) DESC LIMIT 15\")\n",
    "print(result.fetchdf())"
   ]
  },
  {
   "cell_type": "code",
   "execution_count": 35,
   "metadata": {},
   "outputs": [
    {
     "data": {
      "application/vnd.jupyter.widget-view+json": {
       "model_id": "9f6021fcb7bc43cdb1dade15e1715b06",
       "version_major": 2,
       "version_minor": 0
      },
      "text/plain": [
       "Map(center=[47.6062, -122.3321], controls=(ZoomControl(options=['position', 'zoom_in_text', 'zoom_in_title', '…"
      ]
     },
     "execution_count": 35,
     "metadata": {},
     "output_type": "execute_result"
    }
   ],
   "source": [
    "import ipyleaflet\n",
    "import typing as t\n",
    "\n",
    "result = conn.execute(f\"SELECT Location, Latitude, Longitude, COUNT(*) as TheCount FROM read_csv('{file_path}') GROUP BY Location, Latitude, Longitude ORDER BY COUNT(*) DESC LIMIT 15\")\n",
    "\n",
    "# Create a map, centered in Seattle\n",
    "m = ipyleaflet.Map(center=(47.6062, -122.3321), zoom=10)\n",
    "\n",
    "# Make a marker for each encampment. The columns are named \"Location\", \"Latitude\", and \"Longitude\". Use the names.\n",
    "for row in result.fetchdf().itertuples():\n",
    "\tthe_count = t.cast(int, row.TheCount)\n",
    "\tmarker = ipyleaflet.CircleMarker(location=(row.Latitude, row.Longitude), title=row.Location, radius=int((the_count/715.0) * 50))\n",
    "\tm.add_layer(marker)\n",
    "\n",
    "# Display the map -- make it big!\n",
    "m.layout.height = '1200px'\n",
    "m\n"
   ]
  },
  {
   "cell_type": "code",
   "execution_count": 21,
   "metadata": {},
   "outputs": [
    {
     "name": "stdout",
     "output_type": "stream",
     "text": [
      "   count_star()\n",
      "0        108594\n"
     ]
    }
   ],
   "source": [
    "# Count the number of rows in the dataset\n",
    "result = conn.execute(f\"SELECT COUNT(*) FROM read_csv('{file_path}')\")\n",
    "print(result.fetchdf())"
   ]
  },
  {
   "cell_type": "code",
   "execution_count": 27,
   "metadata": {},
   "outputs": [
    {
     "name": "stdout",
     "output_type": "stream",
     "text": [
      "                                     Location   Latitude   Longitude  TheCount\n",
      "0   12363 LAKE CITY WAY NE, SEATTLE, WA 98125  47.719107 -122.295884       454\n",
      "1       1201 UNIVERSITY ST, SEATTLE, WA 98101  47.611950 -122.325495       432\n",
      "2     509 QUEEN ANNE AVE N, SEATTLE, WA 98109  47.623532 -122.357098       292\n",
      "3       515 BOYLSTON AVE E, SEATTLE, WA 98102  47.623889 -122.323335       288\n",
      "4         5315 15TH AVE NW, SEATTLE, WA 98107  47.667751 -122.376824       251\n",
      "5          700 NW 100TH PL, SEATTLE, WA 98177  47.701711 -122.365042       232\n",
      "6        6800 WEEDIN PL NE, SEATTLE, WA 98115  47.678569 -122.321618       226\n",
      "7          1106 SUMMIT AVE, SEATTLE, WA 98101  47.611185 -122.323488       210\n",
      "8         901 NW MARKET ST, SEATTLE, WA 98107  47.668386 -122.368876       203\n",
      "9               400 ROY ST, SEATTLE, WA 98109  47.625602 -122.348652       173\n",
      "10        8342 MARY AVE NW, SEATTLE, WA 98117  47.689945 -122.375292       153\n",
      "11       500 FEDERAL AVE E, SEATTLE, WA 98102  47.623288 -122.318614       145\n",
      "12           1700 NAGLE PL, SEATTLE, WA 98122  47.616494 -122.319857       144\n",
      "13       12526 27TH AVE NE, SEATTLE, WA 98125  47.720057 -122.298679       140\n",
      "14          1001 S MAIN ST, SEATTLE, WA 98104  47.600058 -122.319259       134\n"
     ]
    }
   ],
   "source": [
    "# Do the top-15 list above, but only for incidents in 2024\n",
    "# Remember that \"Created Date\" is a TIMESTAMP\n",
    "result = conn.execute(f\"SELECT Location, Latitude, Longitude, COUNT(*) as TheCount FROM read_csv('{file_path}') WHERE \\\"Created Date\\\" >= '2024-01-01' AND \\\"Created Date\\\" < '2025-01-01' GROUP BY Location, Latitude, Longitude ORDER BY COUNT(*) DESC LIMIT 15\")\n",
    "print(result.fetchdf())"
   ]
  },
  {
   "cell_type": "code",
   "execution_count": null,
   "metadata": {},
   "outputs": [],
   "source": []
  },
  {
   "cell_type": "code",
   "execution_count": 38,
   "metadata": {},
   "outputs": [
    {
     "data": {
      "application/vnd.jupyter.widget-view+json": {
       "model_id": "84d4d9f2e1384cbabf709b585de32730",
       "version_major": 2,
       "version_minor": 0
      },
      "text/plain": [
       "Map(center=[47.6062, -122.3321], controls=(ZoomControl(options=['position', 'zoom_in_text', 'zoom_in_title', '…"
      ]
     },
     "execution_count": 38,
     "metadata": {},
     "output_type": "execute_result"
    }
   ],
   "source": [
    "# Map the 2024 incidents list\n",
    "result = conn.execute(f\"SELECT Location, Latitude, Longitude, COUNT(*) as TheCount FROM read_csv('{file_path}') WHERE \\\"Created Date\\\" >= '2024-01-01' AND \\\"Created Date\\\" < '2025-01-01' GROUP BY Location, Latitude, Longitude ORDER BY COUNT(*) DESC LIMIT 15\")\n",
    "\n",
    "m = ipyleaflet.Map(center=(47.6062, -122.3321), zoom=10)\n",
    "for row in result.fetchdf().itertuples():\n",
    "\tthe_count = t.cast(int, row.TheCount)\n",
    "\tmarker = ipyleaflet.CircleMarker(location=(row.Latitude, row.Longitude), title=row.Location, radius=int((the_count/454.0) * 50))\n",
    "\tm.add_layer(marker)\n",
    "\n",
    "m.layout.height = '1200px'\n",
    "m"
   ]
  },
  {
   "cell_type": "code",
   "execution_count": 39,
   "metadata": {},
   "outputs": [
    {
     "name": "stdout",
     "output_type": "stream",
     "text": [
      "                                     Location   Latitude   Longitude  TheCount\n",
      "0       1201 UNIVERSITY ST, SEATTLE, WA 98101  47.611950 -122.325495       269\n",
      "1     509 QUEEN ANNE AVE N, SEATTLE, WA 98109  47.623532 -122.357098       222\n",
      "2   12363 LAKE CITY WAY NE, SEATTLE, WA 98125  47.719107 -122.295884       198\n",
      "3       515 BOYLSTON AVE E, SEATTLE, WA 98102  47.623889 -122.323335        96\n",
      "4         901 NW MARKET ST, SEATTLE, WA 98107  47.668386 -122.368876        92\n",
      "5          1106 SUMMIT AVE, SEATTLE, WA 98101  47.611185 -122.323488        74\n",
      "6          2012 NW 56TH ST, SEATTLE, WA 98107  47.669625 -122.383255        74\n",
      "7         2302 WESTERN AVE, SEATTLE, WA 98121  47.612847 -122.347450        63\n",
      "8         8342 MARY AVE NW, SEATTLE, WA 98117  47.689945 -122.375292        57\n",
      "9          8415 8TH AVE NW, SEATTLE, WA 98117  47.690403 -122.366276        56\n",
      "10        1506 E SPRING ST, SEATTLE, WA 98122  47.611730 -122.312402        52\n",
      "11      19 W REPUBLICAN ST, SEATTLE, WA 98119  47.623103 -122.357648        50\n",
      "12          612 NW 41ST ST, SEATTLE, WA 98107  47.657553 -122.364608        48\n",
      "13              89 BELL ST, SEATTLE, WA 98121  47.612970 -122.346826        48\n",
      "14       2216 AURORA AVE N, SEATTLE, WA 98109  47.638780 -122.344990        47\n"
     ]
    }
   ],
   "source": [
    "# Now do last 3 months (90 days ending December 16, 2024)\n",
    "result = conn.execute(f\"SELECT Location, Latitude, Longitude, COUNT(*) as TheCount FROM read_csv('{file_path}') WHERE \\\"Created Date\\\" >= '2024-09-17' AND \\\"Created Date\\\" < '2024-12-16' GROUP BY Location, Latitude, Longitude ORDER BY COUNT(*) DESC LIMIT 15\")\n",
    "print(result.fetchdf())"
   ]
  },
  {
   "cell_type": "code",
   "execution_count": 44,
   "metadata": {},
   "outputs": [
    {
     "data": {
      "application/vnd.jupyter.widget-view+json": {
       "model_id": "8eb5a413f60f42b8af8e99b00e802e91",
       "version_major": 2,
       "version_minor": 0
      },
      "text/plain": [
       "Map(center=[47.6062, -122.3321], controls=(ZoomControl(options=['position', 'zoom_in_text', 'zoom_in_title', '…"
      ]
     },
     "execution_count": 44,
     "metadata": {},
     "output_type": "execute_result"
    }
   ],
   "source": [
    "# Map the last 3 months\n",
    "result = conn.execute(f\"SELECT Location, Latitude, Longitude, COUNT(*) as TheCount FROM read_csv('{file_path}') WHERE \\\"Created Date\\\" >= '2024-09-17' AND \\\"Created Date\\\" < '2024-12-16' GROUP BY Location, Latitude, Longitude ORDER BY COUNT(*) DESC LIMIT 15\")\n",
    "\n",
    "m = ipyleaflet.Map(center=(47.6062, -122.3321), zoom=10)\n",
    "for row in result.fetchdf().itertuples():\n",
    "\tthe_count = t.cast(int, row.TheCount)\n",
    "\tmarker = ipyleaflet.CircleMarker(location=(row.Latitude, row.Longitude), title=row.Location, radius=int((the_count/269.0) * 50))\n",
    "\tm.add_layer(marker)\n",
    "\n",
    "m.layout.height = '1200px'\n",
    "m"
   ]
  },
  {
   "cell_type": "code",
   "execution_count": 41,
   "metadata": {},
   "outputs": [
    {
     "name": "stdout",
     "output_type": "stream",
     "text": [
      "                                     Location   Latitude   Longitude  TheCount\n",
      "0     509 QUEEN ANNE AVE N, SEATTLE, WA 98109  47.623532 -122.357098        55\n",
      "1           100 YESLER WAY, SEATTLE, WA 98104  47.601983 -122.333764        32\n",
      "2        1144 NW LEARY WAY, SEATTLE, WA 98107  47.663431 -122.372827        28\n",
      "3            130 1ST AVE W, SEATTLE, WA 98119  47.619594 -122.357654        25\n",
      "4       1201 UNIVERSITY ST, SEATTLE, WA 98101  47.611950 -122.325495        21\n",
      "5       515 BOYLSTON AVE E, SEATTLE, WA 98102  47.623889 -122.323335        20\n",
      "6     1935 N NORTHGATE WAY, SEATTLE, WA 98133  47.708325 -122.334407        20\n",
      "7          1106 SUMMIT AVE, SEATTLE, WA 98101  47.611185 -122.323488        19\n",
      "8     4501 BROOKLYN AVE NE, SEATTLE, WA 98105  47.661506 -122.314572        18\n",
      "9   2358 CALIFORNIA AVE SW, SEATTLE, WA 98116  47.581379 -122.386233        17\n",
      "10      19 W REPUBLICAN ST, SEATTLE, WA 98119  47.623103 -122.357648        16\n",
      "11     2360 S MCCLELLAN ST, SEATTLE, WA 98144  47.578566 -122.301510        15\n",
      "12           1811 18TH AVE, SEATTLE, WA 98122  47.618044 -122.309159        15\n",
      "13              400 ROY ST, SEATTLE, WA 98109  47.625602 -122.348652        15\n",
      "14            2521 3RD AVE, SEATTLE, WA 98121  47.616280 -122.348080        15\n"
     ]
    }
   ],
   "source": [
    "# And last month (30 days ending December 16, 2024)\n",
    "result = conn.execute(f\"SELECT Location, Latitude, Longitude, COUNT(*) as TheCount FROM read_csv('{file_path}') WHERE \\\"Created Date\\\" >= '2024-11-16' AND \\\"Created Date\\\" < '2024-12-16' GROUP BY Location, Latitude, Longitude ORDER BY COUNT(*) DESC LIMIT 15\")\n",
    "print(result.fetchdf())"
   ]
  },
  {
   "cell_type": "code",
   "execution_count": 43,
   "metadata": {},
   "outputs": [
    {
     "data": {
      "application/vnd.jupyter.widget-view+json": {
       "model_id": "329504980ad9457a9a527d28f5f8bf2a",
       "version_major": 2,
       "version_minor": 0
      },
      "text/plain": [
       "Map(center=[47.6062, -122.3321], controls=(ZoomControl(options=['position', 'zoom_in_text', 'zoom_in_title', '…"
      ]
     },
     "execution_count": 43,
     "metadata": {},
     "output_type": "execute_result"
    }
   ],
   "source": [
    "# Map the last month\n",
    "result = conn.execute(f\"SELECT Location, Latitude, Longitude, COUNT(*) as TheCount FROM read_csv('{file_path}') WHERE \\\"Created Date\\\" >= '2024-11-16' AND \\\"Created Date\\\" < '2024-12-16' GROUP BY Location, Latitude, Longitude ORDER BY COUNT(*) DESC LIMIT 15\")\n",
    "\n",
    "m = ipyleaflet.Map(center=(47.6062, -122.3321), zoom=10)\n",
    "for row in result.fetchdf().itertuples():\n",
    "\tthe_count = t.cast(int, row.TheCount)\n",
    "\tmarker = ipyleaflet.CircleMarker(location=(row.Latitude, row.Longitude), title=row.Location, radius=int((the_count/55.0) * 50))\n",
    "\tm.add_layer(marker)\n",
    "\n",
    "m.layout.height = '1200px'\n",
    "m"
   ]
  }
 ],
 "metadata": {
  "kernelspec": {
   "display_name": ".venv",
   "language": "python",
   "name": "python3"
  },
  "language_info": {
   "codemirror_mode": {
    "name": "ipython",
    "version": 3
   },
   "file_extension": ".py",
   "mimetype": "text/x-python",
   "name": "python",
   "nbconvert_exporter": "python",
   "pygments_lexer": "ipython3",
   "version": "3.13.0"
  }
 },
 "nbformat": 4,
 "nbformat_minor": 2
}
