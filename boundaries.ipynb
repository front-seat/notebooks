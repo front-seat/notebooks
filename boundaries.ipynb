{
 "cells": [
  {
   "cell_type": "code",
   "execution_count": 4,
   "metadata": {},
   "outputs": [
    {
     "name": "stdout",
     "output_type": "stream",
     "text": [
      "47.6184652174827 47.6397271875236 -122.350357286111 -122.32332722972\n"
     ]
    }
   ],
   "source": [
    "import json\n",
    "\n",
    "with open(\"data/sea-neighborhoods.geojson\") as f:\n",
    "\tdata = json.load(f)\n",
    "\n",
    "for feature in data[\"features\"]:\n",
    "\tif feature.get(\"properties\", {}).get(\"S_HOOD\") == \"South Lake Union\":\n",
    "\t\tcoordinates = feature[\"geometry\"][\"coordinates\"]\n",
    "\n",
    "real_coordinates = coordinates[0]\n",
    "min_lat = min([coord[1] for coord in real_coordinates])\n",
    "max_lat = max([coord[1] for coord in real_coordinates])\n",
    "min_lon = min([coord[0] for coord in real_coordinates])\n",
    "max_lon = max([coord[0] for coord in real_coordinates])\n",
    "\n",
    "print(min_lat, max_lat, min_lon, max_lon)"
   ]
  }
 ],
 "metadata": {
  "kernelspec": {
   "display_name": ".venv",
   "language": "python",
   "name": "python3"
  },
  "language_info": {
   "codemirror_mode": {
    "name": "ipython",
    "version": 3
   },
   "file_extension": ".py",
   "mimetype": "text/x-python",
   "name": "python",
   "nbconvert_exporter": "python",
   "pygments_lexer": "ipython3",
   "version": "3.13.0"
  }
 },
 "nbformat": 4,
 "nbformat_minor": 2
}
