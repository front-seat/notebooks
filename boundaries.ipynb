{
 "cells": [
  {
   "cell_type": "code",
   "execution_count": null,
   "metadata": {},
   "outputs": [],
   "source": [
    "import json\n",
    "\n",
    "with open(\"data/sea-neighborhoods.geojson\") as f:\n",
    "\tdata = json.load(f)\n",
    "\n",
    "for feature in data[\"features\"]:\n",
    "\tif feature.get(\"properties\", {}).get(\"S_HOOD\") == \"South Lake Union\":\n",
    "\t\tcoordinates = feature[\"geometry\"][\"coordinates\"]\n",
    "\n",
    "print(json.dumps(coordinates, indent=2))"
   ]
  }
 ],
 "metadata": {
  "kernelspec": {
   "display_name": ".venv",
   "language": "python",
   "name": "python3"
  },
  "language_info": {
   "name": "python",
   "version": "3.13.0"
  }
 },
 "nbformat": 4,
 "nbformat_minor": 2
}
