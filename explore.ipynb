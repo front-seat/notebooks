{
 "cells": [
  {
   "cell_type": "markdown",
   "metadata": {},
   "source": [
    "### Dataset explorations -- full customer service records\n"
   ]
  },
  {
   "cell_type": "code",
   "execution_count": 2,
   "metadata": {},
   "outputs": [
    {
     "name": "stdout",
     "output_type": "stream",
     "text": [
      "  Service Request Number                        Service Request Type                            City Department        Created Date         Method Received              Status                                   Location       X_Value        Y_Value   Latitude   Longitude                 Latitude/Longitude  ZIP Code  Council District Police Precinct     Neighborhood\n",
      "0            21-00000006  Street Sign and Traffic Signal Maintenance  SDOT-Seattle Department of Transportation 2021-01-01 05:24:02     Find It Fix It Apps            Reported      2052 RAINIER AVE S, SEATTLE, WA 98144  1.277820e+06  216740.084565  47.584693 -122.302683  POINT (-122.30268292 47.58469328)     98144                 3           SOUTH         ATLANTIC\n",
      "1            21-00000007                                    Graffiti               SPU-Seattle Public Utilities 2021-01-01 07:31:00     Find It Fix It Apps            Reported       2920 DEXTER AVE N, SEATTLE, WA 98109  1.266760e+06  239220.678480  47.645724 -122.349285  POINT (-122.34928524 47.64572391)     98109                 7            WEST  EAST QUEEN ANNE\n",
      "2            21-00000001                        Overgrown Vegetation    FAS-Finance and Administrative Services 2021-01-01 00:11:39     Find It Fix It Apps              Closed    10301 RAVENNA AVE NE, SEATTLE, WA 98125  1.279510e+06  259908.290513  47.703105 -122.299169  POINT (-122.29916858 47.70310516)     98125                 5           NORTH      MEADOWBROOK\n",
      "3            21-00000010                   Illegal Dumping / Needles               SPU-Seattle Public Utilities 2021-01-01 08:19:22     Find It Fix It Apps              Closed        2847 S ALASKA ST, SEATTLE, WA 98108  1.279615e+06  207943.840093  47.560677 -122.294734  POINT (-122.29473391 47.56067652)     98108                 2           SOUTH  MID-BEACON HILL\n",
      "4            21-00000012            General Inquiry - Animal Shelter    FAS-Finance and Administrative Services 2021-01-01 08:47:35  Citizen Web Intake App              Closed       4815 S CHICAGO ST, SEATTLE, WA 98118  1.285049e+06  197537.621198  47.532434 -122.271943  POINT (-122.27194345 47.53243366)     98118                 2           SOUTH         BRIGHTON\n",
      "5            21-00000008                   Illegal Dumping / Needles               SPU-Seattle Public Utilities 2021-01-01 07:55:11     Find It Fix It Apps              Closed  12363 LAKE CITY WAY NE, SEATTLE, WA 98125  1.280430e+06  265728.957802  47.719107 -122.295884  POINT (-122.29588427 47.71910747)     98125                 5           NORTH  VICTORY HEIGHTS\n",
      "6            21-00000014                         Parking Enforcement              SPD-Seattle Police Department 2021-01-01 08:53:40     Find It Fix It Apps              Closed       1413 E YESLER WAY, SEATTLE, WA 98122  1.275288e+06  222907.845025  47.601466 -122.313424  POINT (-122.31342394 47.60146599)     98122                 3            EAST         ATLANTIC\n",
      "7            21-00000016                   Illegal Dumping / Needles               SPU-Seattle Public Utilities 2021-01-01 09:07:46     Find It Fix It Apps              Closed      3405 HARBOR AVE SW, SEATTLE, WA 98126  1.260848e+06  212669.139036  47.572626 -122.371114   POINT (-122.37111375 47.5726259)     98126                 1       SOUTHWEST    NORTH ADMIRAL\n",
      "8            21-00000025                         Parking Enforcement              SPD-Seattle Police Department 2021-01-01 09:42:00     Find It Fix It Apps              Closed       1413 E YESLER WAY, SEATTLE, WA 98122  1.275288e+06  222907.845025  47.601466 -122.313424  POINT (-122.31342394 47.60146599)     98122                 3            EAST         ATLANTIC\n",
      "9            21-00000026                   Illegal Dumping / Needles               SPU-Seattle Public Utilities 2021-01-01 09:42:02     Find It Fix It Apps  Duplicate (Closed)  12355 LAKE CITY WAY NE, SEATTLE, WA 98125  1.280439e+06  265688.708441  47.718998 -122.295844    POINT (-122.295844 47.71899762)     98125                 5           NORTH  VICTORY HEIGHTS\n"
     ]
    }
   ],
   "source": [
    "import duckdb\n",
    "import pandas as pd\n",
    "import os.path\n",
    "\n",
    "home = os.path.expanduser(\"~\")\n",
    "\n",
    "file_path = os.path.join(home, \"misc\", \"seattle-all-fixit-requests.csv\")\n",
    "conn = duckdb.connect()\n",
    "\n",
    "# Get the first 10 rows of the CSV file\n",
    "result = conn.execute(f\"SELECT * FROM read_csv('{file_path}') LIMIT 10\")\n",
    "\n",
    "# Print the result -- do not wrap columns\n",
    "pd.set_option('display.expand_frame_repr', False)\n",
    "print(result.fetchdf())"
   ]
  },
  {
   "cell_type": "code",
   "execution_count": 5,
   "metadata": {},
   "outputs": [
    {
     "name": "stdout",
     "output_type": "stream",
     "text": [
      "Canceled\n",
      "Closed\n",
      "Closed -Incomplete Information\n",
      "Closed as Duplicate\n",
      "Duplicate (Closed)\n",
      "Duplicate (Open)\n",
      "New\n",
      "Open\n",
      "Reported\n",
      "Transferred to Other Dept\n"
     ]
    }
   ],
   "source": [
    "# Create a set() of all possible `Status` values\n",
    "result = conn.execute(f\"SELECT DISTINCT Status FROM read_csv('{file_path}')\")\n",
    "statuses = set(result.fetchdf()[\"Status\"].tolist())\n",
    "for status in sorted(list(statuses)):\n",
    "\tprint(status)\n"
   ]
  },
  {
   "cell_type": "code",
   "execution_count": 6,
   "metadata": {},
   "outputs": [
    {
     "name": "stdout",
     "output_type": "stream",
     "text": [
      "ADA Request (Transportation)\n",
      "Abandoned Vehicle\n",
      "Abandoned Vehicle/72hr Parking Ordinance\n",
      "Animal Noise\n",
      "Bicycle Facility Maintenance\n",
      "Business Related Complaint\n",
      "Business Violation of Public Health Requirements\n",
      "Clogged Storm Drain\n",
      "Damaged Sidewalk\n",
      "Dead Animal\n",
      "Feedback about the Customer Service Requests Portal\n",
      "Feedback about the Find It, Fix It mobile app\n",
      "Found a Pet\n",
      "General Inquiry - Animal Shelter\n",
      "General Inquiry - City Light\n",
      "General Inquiry - Customer Service Bureau\n",
      "General Inquiry - Police Department\n",
      "General Inquiry - Public Utilities\n",
      "General Inquiry - Transportation\n",
      "Graffiti\n",
      "Illegal Dumping / Needles\n",
      "Internet/Cable Issue\n",
      "Lost a Pet\n",
      "Nightlife Noise Complaint\n",
      "Nuisance dogs in a park\n",
      "Overgrown Vegetation\n",
      "Parking Enforcement\n",
      "Parks and Recreation Maintenance\n",
      "Pollution Report Form\n",
      "Pothole\n",
      "Public Garage or Parking Lot Complaint\n",
      "Public Litter and Recycling Cans\n",
      "Public Utilities Direct Mail Opt Out\n",
      "Safe Routes to School\n",
      "Scooter or Bike Share Issue\n",
      "Seattle Center\n",
      "Snow and Ice\n",
      "Street Sign Maintenance\n",
      "Street Sign and Traffic Signal Maintenance\n",
      "Streetlight Maintenance\n",
      "Taxi, TNC, or Limousine Complaint or Compliment\n",
      "Towing Complaint - Public Impound\n",
      "Towing Impound Complaint\n",
      "Traffic Calming\n",
      "Traffic Signal Maintenance\n",
      "Unauthorized Encampment\n",
      "Wireless or Small Cell Issue\n",
      "ZZ-Baseline Testing Only\n",
      "ZZDONOTUSE - For Testing Only\n"
     ]
    }
   ],
   "source": [
    "# Create a set() of all `Service Request Type` values\n",
    "result = conn.execute(f\"SELECT DISTINCT \\\"Service Request Type\\\" FROM read_csv('{file_path}')\")\n",
    "service_request_types = set(result.fetchdf()[\"Service Request Type\"].tolist())\n",
    "for service_request_type in sorted(list(service_request_types)):\n",
    "\tprint(service_request_type)"
   ]
  }
 ],
 "metadata": {
  "kernelspec": {
   "display_name": ".venv",
   "language": "python",
   "name": "python3"
  },
  "language_info": {
   "codemirror_mode": {
    "name": "ipython",
    "version": 3
   },
   "file_extension": ".py",
   "mimetype": "text/x-python",
   "name": "python",
   "nbconvert_exporter": "python",
   "pygments_lexer": "ipython3",
   "version": "3.13.0"
  }
 },
 "nbformat": 4,
 "nbformat_minor": 2
}
