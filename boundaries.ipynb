{
 "cells": [
  {
   "cell_type": "code",
   "execution_count": 6,
   "metadata": {},
   "outputs": [
    {
     "name": "stdout",
     "output_type": "stream",
     "text": [
      "47.6126705715883 47.6397271875236 -122.350357286111 -122.32332722972\n"
     ]
    }
   ],
   "source": [
    "import json\n",
    "\n",
    "with open(\"data/sea-neighborhoods.geojson\") as f:\n",
    "\tdata = json.load(f)\n",
    "\n",
    "all_coords = []\n",
    "\n",
    "for feature in data[\"features\"]:\n",
    "\tif feature.get(\"properties\", {}).get(\"S_HOOD\") == \"Denny Triangle\":\n",
    "\t\tcoordinates = feature[\"geometry\"][\"coordinates\"]\n",
    "\t\tall_coords.extend(coordinates[0])\n",
    "\telif feature.get(\"properties\", {}).get(\"S_HOOD\") == \"South Lake Union\":\n",
    "\t\tcoordinates = feature[\"geometry\"][\"coordinates\"]\n",
    "\t\tall_coords.extend(coordinates[0])\n",
    "\n",
    "min_lat = min([coord[1] for coord in all_coords])\n",
    "max_lat = max([coord[1] for coord in all_coords])\n",
    "min_lon = min([coord[0] for coord in all_coords])\n",
    "max_lon = max([coord[0] for coord in all_coords])\n",
    "\n",
    "print(min_lat, max_lat, min_lon, max_lon)"
   ]
  }
 ],
 "metadata": {
  "kernelspec": {
   "display_name": ".venv",
   "language": "python",
   "name": "python3"
  },
  "language_info": {
   "codemirror_mode": {
    "name": "ipython",
    "version": 3
   },
   "file_extension": ".py",
   "mimetype": "text/x-python",
   "name": "python",
   "nbconvert_exporter": "python",
   "pygments_lexer": "ipython3",
   "version": "3.13.0"
  }
 },
 "nbformat": 4,
 "nbformat_minor": 2
}
